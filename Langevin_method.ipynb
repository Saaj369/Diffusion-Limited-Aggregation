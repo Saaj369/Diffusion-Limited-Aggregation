{
  "cells": [
    {
      "cell_type": "markdown",
      "metadata": {
        "id": "view-in-github",
        "colab_type": "text"
      },
      "source": [
        "<a href=\"https://colab.research.google.com/github/Saaj369/Diffusion-Limited-Aggregation/blob/main/Langevin_method.ipynb\" target=\"_parent\"><img src=\"https://colab.research.google.com/assets/colab-badge.svg\" alt=\"Open In Colab\"/></a>"
      ]
    },
    {
      "cell_type": "markdown",
      "id": "e1b4af90-c61b-42a3-9654-4529e4f7dad3",
      "metadata": {
        "id": "e1b4af90-c61b-42a3-9654-4529e4f7dad3"
      },
      "source": [
        "# Diffusion LImited aggregation with killing particles method"
      ]
    },
    {
      "cell_type": "code",
      "execution_count": null,
      "id": "27435bbb-edfe-4fda-af78-40fa0755d4d7",
      "metadata": {
        "id": "27435bbb-edfe-4fda-af78-40fa0755d4d7"
      },
      "outputs": [],
      "source": [
        "# Imports\n",
        "import numpy as np\n",
        "from math import pi, sqrt\n",
        "%matplotlib widget"
      ]
    },
    {
      "cell_type": "code",
      "execution_count": null,
      "id": "93f615bb-97fc-4439-93d3-54d1627a7e60",
      "metadata": {
        "id": "93f615bb-97fc-4439-93d3-54d1627a7e60"
      },
      "outputs": [],
      "source": [
        "# Data structure for storing aggregate data\n",
        "class cluster():\n",
        "    def __init__(self,master,children,id):\n",
        "        self.master = master\n",
        "        self.children = children\n",
        "        self.id = id\n",
        "    def add(self,children):\n",
        "        self.children.append(children)\n",
        "    def reveal(self):\n",
        "        print(self.id)\n",
        "        print(self.children)\n",
        ""
      ]
    },
    {
      "cell_type": "code",
      "execution_count": null,
      "id": "d2f79989-eda5-45ce-b006-50ba4d1ad4e4",
      "metadata": {
        "id": "d2f79989-eda5-45ce-b006-50ba4d1ad4e4"
      },
      "outputs": [],
      "source": [
        "# parameters\n",
        "m = 0.2; R = 0.4; eta = 0.01; kT = 2; gmma = 6*pi*eta*R/m; dt = 0.1 #n = 90000 # Depreciated n\n",
        "mu = 0; rc = 0.1; N = 5000 # NOP aggregating\n",
        "L = 10"
      ]
    },
    {
      "cell_type": "code",
      "execution_count": null,
      "id": "82f80928-e112-44c0-ad00-07669137c929",
      "metadata": {
        "id": "82f80928-e112-44c0-ad00-07669137c929"
      },
      "outputs": [],
      "source": [
        "# main class for performing DLA\n",
        "# With Periodic Boundary Condition and seed Aggregation for 1 particle\n",
        "class BAOAB():\n",
        "    def __init__(self,initials,seed:cluster):\n",
        "        self.seed = seed\n",
        "        self.aggs = [seed]\n",
        "        self.sr = 2*R\n",
        "        self.meanr = None\n",
        "        # self.L = 10*self.sr\n",
        "        # self.ts = np.zeros(n)\n",
        "        # self.xs = np.zeros((n, 3))\n",
        "        # self.vs = np.zeros((n, 3))\n",
        "        self.ts, self.xs, self.vs = [0],[0],[0]\n",
        "        self.ts[0], self.xs[0], self.vs[0] = initials[0], initials[1], initials[2]\n",
        "\n",
        "    def F(self,t):\n",
        "        ''' This is any external deterministic force'''\n",
        "        return 0\n",
        "\n",
        "    def B(self,vt,ft):\n",
        "        nvt = vt + ft*dt/(2*m)\n",
        "        return nvt\n",
        "\n",
        "    def A(self,xt,vt):\n",
        "        nxt = xt + vt*(dt/2)\n",
        "        return nxt\n",
        "\n",
        "    def O(self,vt):\n",
        "        Rt = np.random.normal(0, 1, size=3)\n",
        "        nvt = np.exp(-gmma*dt)*vt + Rt*sqrt(kT/m)*sqrt(1-np.exp(-2*gmma*dt))\n",
        "        return nvt\n",
        "\n",
        "    def check_for_aggregation(self,xt):\n",
        "        seed = self.seed\n",
        "        master = seed.master\n",
        "        children = seed.children\n",
        "        for member in self.aggs:\n",
        "            r = xt - member.master\n",
        "            if np.linalg.norm(r) <= 2*R:\n",
        "                ru = r/np.linalg.norm(r)\n",
        "                rn = member.master + ru\n",
        "                ob = cluster(master = rn, children = [], id = None)\n",
        "                member.children.append(ob)\n",
        "                self.aggs.append(ob)\n",
        "                sr = np.linalg.norm(rn - master) + 2*R\n",
        "                if sr > self.sr:\n",
        "                    self.sr = sr # changing Seed radius\n",
        "                return True\n",
        "        return False\n",
        "\n",
        "\n",
        "    def check_for_closeness(self,xt):\n",
        "        r = np.linalg.norm(xt - self.seed.master)\n",
        "        if r <= self.sr:\n",
        "            return -1\n",
        "        # elif r >= 20*self.sr:\n",
        "        elif r >= ((20*self.meanr)+self.sr):\n",
        "            return 1\n",
        "        else:\n",
        "            return 0\n",
        "\n",
        "\n",
        "    def execute(self):\n",
        "        self.xs[0] = self.gen_particle()\n",
        "        # L = 10*self.sr\n",
        "        i = 1\n",
        "        count = 0\n",
        "        while count < N:\n",
        "            vt, xt = self.vs[i-1], self.xs[i-1]\n",
        "            t = self.ts[i-1] + i*dt\n",
        "            ft = self.F(t)\n",
        "\n",
        "            #B\n",
        "            vt = self.B(vt,ft)\n",
        "            #A\n",
        "            xt = self.A(xt,vt)\n",
        "            #O\n",
        "            vt = self.O(vt)\n",
        "            #A\n",
        "            xt = self.A(xt,vt)\n",
        "            #B\n",
        "            vt = self.B(vt,ft)\n",
        "\n",
        "\n",
        "            # self.ts[i], self.xs[i], self.vs[i] = t, xt, vt\n",
        "            self.ts.append(t); self.xs.append(xt); self.vs.append(vt)\n",
        "            check = self.check_for_closeness(xt)\n",
        "            if check == -1:\n",
        "                if self.check_for_aggregation(xt):\n",
        "                    print(f\"{count} Aggregated at {i}\")\n",
        "                    # self.save_data(f\"LD2//P{count}.xyz\")\n",
        "                    self.initiate()\n",
        "                    i = 0\n",
        "                    count += 1\n",
        "            if check == 1:\n",
        "                # print(f\"{count} Particle went outside: KILLING\")\n",
        "                self.initiate()\n",
        "                i = 0\n",
        "\n",
        "            i += 1\n",
        "    def initiate(self):\n",
        "        x0 = self.gen_particle()\n",
        "        # print(x0)\n",
        "        self.ts, self.xs, self.vs = [0],[0],[0]\n",
        "        self.ts[0], self.xs[0], self.vs[0] = 0, x0, np.array([0,0,0])\n",
        "        # L = self.sr*10\n",
        "\n",
        "    def gen_particle(self):\n",
        "        r = np.array([np.random.uniform(-1, 1),np.random.uniform(-1, 1),np.random.uniform(-1, 1)])\n",
        "        r = self.seed.master + ((10*self.meanr)+self.sr)* r/np.linalg.norm(r)\n",
        "        return r\n",
        "\n",
        "    def estimate_meanr(self):\n",
        "        x0 =np.array([np.random.uniform(-1, 1),np.random.uniform(-1, 1),np.random.uniform(-1, 1)])\n",
        "        print(x0)\n",
        "        self.ts, self.xs, self.vs = [0],[0],[0]\n",
        "        self.ts[0], self.xs[0], self.vs[0] = 0, x0, np.array([0,0,0])\n",
        "        mean = 0\n",
        "        for i in range(1,1000):\n",
        "            vt, xt = self.vs[i-1], self.xs[i-1]\n",
        "            t = self.ts[i-1] + i*dt\n",
        "            ft = self.F(t)\n",
        "\n",
        "            #B\n",
        "            vt = self.B(vt,ft)\n",
        "            #A\n",
        "            xt = self.A(xt,vt)\n",
        "            #O\n",
        "            vt = self.O(vt)\n",
        "            #A\n",
        "            xt = self.A(xt,vt)\n",
        "            #B\n",
        "            vt = self.B(vt,ft)\n",
        "\n",
        "            self.ts.append(t); self.xs.append(xt); self.vs.append(vt)\n",
        "            mean += np.linalg.norm(self.xs[i] - self.xs[i-1])\n",
        "        mean = mean/999\n",
        "        self.meanr = mean\n",
        "\n",
        "    def save_data(self,filename):\n",
        "        with open(filename, 'w') as f:\n",
        "            for i in range(len(self.ts)):\n",
        "                f.write(f\"{1}\\n\")  # Number of particles\n",
        "                f.write(f\"time = {self.ts[i]} step = {i}\\n\")  # Optional comment line\n",
        "                _id = 0\n",
        "                # for position in self.POS:\n",
        "                particle_id = f'p_{_id}'\n",
        "                # x, y, z = self[particle_id]\n",
        "                f.write(f\"X{particle_id} {self.xs[i][0]} {self.xs[i][1]} {self.xs[i][2]}\\n\")\n",
        "\n",
        "    def save_agg(self,filename):\n",
        "        POS = np.array([p.master for p in self.aggs])\n",
        "        with open(filename, 'w') as f:\n",
        "            f.write(f\"{len(POS)}\\n\")  # Number of particles\n",
        "            # f.write(f\"time = {self.ts[i]} step = {i}\\n\")  # Optional comment line\n",
        "            for i in range(len(POS)):\n",
        "                particle_id = f'p_{i}'\n",
        "            # x, y, z = self[particle_id]\n",
        "                f.write(f\"X{particle_id} {POS[i][0]} {POS[i][1]} {POS[i][2]}\\n\")\n",
        "\n",
        "\n",
        "\n",
        "    def plot(self):\n",
        "        import numpy as np\n",
        "        import matplotlib.pyplot as plt\n",
        "\n",
        "        # Assuming your data is stored in a numpy array named 'data'\n",
        "        # Each row represents a 3D vector (x, y, z) of particle position\n",
        "        # Example data with 100 time steps and 3 dimensions\n",
        "\n",
        "        # Create subplots for each 2D projection\n",
        "        fig, axs = plt.subplots(1, 3, figsize=(11, 4))\n",
        "        ts, xs,vs = np.array(self.ts), np.array(self.xs), np.array(self.vs)\n",
        "\n",
        "        # Plot XY plane (x vs y)\n",
        "        axs[0].plot(xs[:, 0], xs[:, 1])\n",
        "        axs[0].set_xlabel('X')\n",
        "        axs[0].set_ylabel('Y')\n",
        "        axs[0].set_title('XY Plane')\n",
        "\n",
        "        # Plot YZ plane (y vs z)\n",
        "        axs[1].plot(xs[:, 1], xs[:, 2])\n",
        "        axs[1].set_xlabel('Y')\n",
        "        axs[1].set_ylabel('Z')\n",
        "        axs[1].set_title('YZ Plane')\n",
        "\n",
        "        # Plot XZ plane (x vs z)\n",
        "        axs[2].plot(xs[:, 0], xs[:, 2])\n",
        "        axs[2].set_xlabel('X')\n",
        "        axs[2].set_ylabel('Z')\n",
        "        axs[2].set_title('XZ Plane')\n",
        "\n",
        "        # Adjust layout and show plot\n",
        "        plt.tight_layout()\n",
        "        plt.show()\n",
        "        # plt.close()\n",
        "    def plot3d(self):\n",
        "        import numpy as np\n",
        "        import matplotlib.pyplot as plt\n",
        "        from mpl_toolkits.mplot3d import Axes3D\n",
        "\n",
        "        # Assuming you have position data in a numpy array 'positions'\n",
        "        # Each row of 'positions' contains the x, y, and z coordinates of the particle at different time steps\n",
        "\n",
        "        # Example data (replace this array with your actual data)\n",
        "        # Let's assume 'positions' is a 2D numpy array with shape (time_steps, 3)\n",
        "\n",
        "        # Create a 3D plot\n",
        "        fig = plt.figure()\n",
        "        ax = fig.add_subplot(111, projection='3d')\n",
        "\n",
        "        # Extract x, y, and z coordinates from the 'positions' array\n",
        "        xs = np.array(self.xs)\n",
        "        x = xs[:, 0]\n",
        "        y = xs[:, 1]\n",
        "        z = xs[:, 2]\n",
        "\n",
        "        # Plot the trajectory with smaller dots (adjust the markersize as needed)\n",
        "        ax.plot(x, y, z, marker='o', markersize=1)\n",
        "\n",
        "        # Set labels and title\n",
        "        ax.set_xlabel('X')\n",
        "        ax.set_ylabel('Y')\n",
        "        ax.set_zlabel('Z')\n",
        "        ax.set_title('Particle Trajectory')\n",
        "\n",
        "        # Show plot\n",
        "        plt.show()\n",
        "    def show_aggregate(self,s=100):\n",
        "        import matplotlib.pyplot as plt\n",
        "        from mpl_toolkits.mplot3d import Axes3D\n",
        "\n",
        "        # Enable interactive mode\n",
        "        %matplotlib notebook\n",
        "\n",
        "        # Extract x, y, z coordinates from positions array\n",
        "        POS = np.array([p.master for p in self.aggs])\n",
        "        x = POS[:, 0]\n",
        "        y = POS[:, 1]\n",
        "        z = POS[:, 2]\n",
        "\n",
        "\n",
        "        # Create a 3D scatter plot\n",
        "        fig = plt.figure()\n",
        "        ax = fig.add_subplot(111, projection='3d')\n",
        "\n",
        "        # Plot the particles\n",
        "        ax.scatter(x, y, z, c='r',s=s, marker='o', label='Particles')\n",
        "\n",
        "        # Set labels and title\n",
        "        ax.set_xlabel('X')\n",
        "        ax.set_ylabel('Y')\n",
        "        ax.set_zlabel('Z')\n",
        "        ax.set_title('Particle Positions')\n",
        "\n",
        "        # Add legend\n",
        "        ax.legend()\n",
        "\n",
        "        # Show the plot\n",
        "        plt.show()"
      ]
    },
    {
      "cell_type": "code",
      "execution_count": null,
      "id": "04f5a63e-5f0b-4f40-a1ff-bb90c9c7a8fd",
      "metadata": {
        "id": "04f5a63e-5f0b-4f40-a1ff-bb90c9c7a8fd"
      },
      "outputs": [],
      "source": [
        "# Creating data structure object\n",
        "seed = cluster(master = np.array([0,0,0]), children = [], id = 0)"
      ]
    },
    {
      "cell_type": "code",
      "execution_count": null,
      "id": "1606509e-388b-4ceb-a1e6-e7f87adeec5b",
      "metadata": {
        "id": "1606509e-388b-4ceb-a1e6-e7f87adeec5b"
      },
      "outputs": [],
      "source": [
        "# Initilisnig initial conditions and creating object\n",
        "t0 = 0\n",
        "x0 = np.array([0,0,0]) # dummy\n",
        "v0 = np.array([0,0,0])\n",
        "initial = (t0,x0,v0)\n",
        "obj = BAOAB(initial,seed)"
      ]
    },
    {
      "cell_type": "code",
      "execution_count": null,
      "id": "a6eb9ac7-832f-4a28-b422-a7207cdadd02",
      "metadata": {
        "id": "a6eb9ac7-832f-4a28-b422-a7207cdadd02"
      },
      "outputs": [],
      "source": [
        "# estimating mean free path and initiating\n",
        "obj.estimate_meanr()\n",
        "obj.initiate()"
      ]
    },
    {
      "cell_type": "code",
      "execution_count": null,
      "id": "3ef7b009-502d-4566-bf84-9bfd3381c41b",
      "metadata": {
        "id": "3ef7b009-502d-4566-bf84-9bfd3381c41b"
      },
      "outputs": [],
      "source": [
        "# Executing simulation\n",
        "obj.execute()"
      ]
    },
    {
      "cell_type": "code",
      "execution_count": null,
      "id": "ef24c42a-5dcd-4fa6-b77a-d5dce0337b11",
      "metadata": {
        "id": "ef24c42a-5dcd-4fa6-b77a-d5dce0337b11"
      },
      "outputs": [],
      "source": [
        "# Saving file\n",
        "def save_agg(filename = \"agg5000_killing_00_eta.xyz\"):\n",
        "    POS = np.array([p.master for p in obj.aggs])\n",
        "    with open(filename, 'w') as f:\n",
        "        f.write(f\"{len(POS)}\\n\")  # Number of particles\n",
        "        f.write(f\"m = 0.2; R = 0.4; eta = 0.01; kT = 2; dt = 0.1 \\n\")  # Optional comment line\n",
        "        for i in range(len(POS)):\n",
        "            particle_id = f'p_{i}'\n",
        "        # x, y, z = self[particle_id]\n",
        "            f.write(f\"X{particle_id} {POS[i][0]} {POS[i][1]} {POS[i][2]}\\n\")\n",
        "\n",
        "save_agg()"
      ]
    },
    {
      "cell_type": "code",
      "execution_count": null,
      "id": "b686cad9-732b-4381-a885-f7a76fb78de2",
      "metadata": {
        "id": "b686cad9-732b-4381-a885-f7a76fb78de2"
      },
      "outputs": [],
      "source": []
    },
    {
      "cell_type": "markdown",
      "id": "62ea768d-dd96-4fb2-8351-cd0c6ffecbde",
      "metadata": {
        "id": "62ea768d-dd96-4fb2-8351-cd0c6ffecbde"
      },
      "source": [
        "# Data analysis from file"
      ]
    },
    {
      "cell_type": "code",
      "execution_count": null,
      "id": "8c4fc33b-54ce-4a26-b53f-0fbe19d7de3f",
      "metadata": {
        "id": "8c4fc33b-54ce-4a26-b53f-0fbe19d7de3f"
      },
      "outputs": [],
      "source": [
        "import numpy as np\n",
        "\n",
        "# Read the file and skip the first two lines\n",
        "with open('agg5000_killing_00_eta.xyz', 'r') as f:\n",
        "    lines = f.readlines()[2:]\n",
        "\n",
        "# Extract position data from each line and store in a NumPy array\n",
        "apos = np.array([list(map(float, line.split()[1:])) for line in lines])\n",
        "\n",
        "# Print the extracted positions\n",
        "print(apos)"
      ]
    },
    {
      "cell_type": "code",
      "execution_count": null,
      "id": "0cd9e18b-c51a-4f8b-a6a9-1bf1fbe8b2f9",
      "metadata": {
        "id": "0cd9e18b-c51a-4f8b-a6a9-1bf1fbe8b2f9"
      },
      "outputs": [],
      "source": [
        "# Defining various functions, names are self understood\n",
        "from math import pi\n",
        "def Nr(r):\n",
        "    norms = np.linalg.norm(apos, axis=1)\n",
        "    counts = np.sum(norms <= r)\n",
        "    return counts-1\n",
        "\n",
        "def span():\n",
        "    norms = np.linalg.norm(apos, axis=1)\n",
        "    return np.max(norms)\n",
        "\n",
        "def Cr(r,dr):\n",
        "    res = Nr(r+dr) - Nr(r-dr)\n",
        "    res = res/(1000*8*pi*dr*r**2)\n",
        "    return res\n",
        ""
      ]
    },
    {
      "cell_type": "code",
      "execution_count": null,
      "id": "9b1e85d4-9965-4ec7-9c48-fab42ea574dc",
      "metadata": {
        "id": "9b1e85d4-9965-4ec7-9c48-fab42ea574dc"
      },
      "outputs": [],
      "source": [
        "# Extracting and preparing data\n",
        "rs = np.arange(1, 6, 0.1)\n",
        "crs = []\n",
        "Nrs = []\n",
        "for r in rs:\n",
        "    crs.append(Cr(r,0.5))\n",
        "    Nrs.append(Nr(r))\n",
        "crs = np.array(crs)\n",
        "Nrs = np.array(Nrs)"
      ]
    },
    {
      "cell_type": "code",
      "execution_count": null,
      "id": "c024162e-f732-45e4-89aa-025e41d531b0",
      "metadata": {
        "id": "c024162e-f732-45e4-89aa-025e41d531b0"
      },
      "outputs": [],
      "source": [
        "# PLotting stuff\n",
        "import numpy as np\n",
        "import matplotlib.pyplot as plt\n",
        "\n",
        "# Take the natural logarithm (ln) of both arrays\n",
        "ln_rs = np.log(rs[1:])\n",
        "ln_crs = np.log(crs[1:])\n",
        "ln_Nrs = np.log(Nrs[1:])\n",
        "\n",
        "# Plot the ln of crs and perform linear fit\n",
        "plt.figure(figsize=(8, 4))\n",
        "plt.plot(ln_rs, ln_crs, marker='o', linestyle='-')\n",
        "slope_crs, intercept_crs = np.polyfit(ln_rs, ln_crs, 1)\n",
        "plt.xlabel('ln(r)')\n",
        "plt.ylabel('ln(C(r))')\n",
        "plt.title('ln(r) Vs ln(C(r))')\n",
        "plt.grid(True)\n",
        "\n",
        "# Plot the linear fit line\n",
        "plt.plot(ln_rs, slope_crs * ln_rs + intercept_crs, color='red', linestyle='--')\n",
        "\n",
        "# Print the slope for ln(C(r))\n",
        "print(\"Slope of the linear fit for ln(C(r)):\", slope_crs)\n",
        "\n",
        "plt.show()\n",
        "\n",
        "# Plot the ln of Nrs and perform linear fit\n",
        "plt.figure(figsize=(8, 4))\n",
        "plt.plot(ln_rs, ln_Nrs, marker='o', linestyle='-')\n",
        "slope_Nrs, intercept_Nrs = np.polyfit(ln_rs, ln_Nrs, 1)\n",
        "plt.xlabel('ln(r)')\n",
        "plt.ylabel('ln(N(r))')\n",
        "plt.title('ln(r) Vs ln(N(r))')\n",
        "plt.grid(True)\n",
        "\n",
        "# Plot the linear fit line\n",
        "plt.plot(ln_rs, slope_Nrs * ln_rs + intercept_Nrs, color='red', linestyle='--')\n",
        "\n",
        "# Print the slope for ln(N(r))\n",
        "print(\"Slope of the linear fit for ln(N(r)):\", slope_Nrs)\n",
        "\n",
        "plt.show()\n"
      ]
    },
    {
      "cell_type": "code",
      "execution_count": null,
      "id": "9227bb6f-684c-4f75-9f32-e468a561b40d",
      "metadata": {
        "id": "9227bb6f-684c-4f75-9f32-e468a561b40d"
      },
      "outputs": [],
      "source": []
    },
    {
      "cell_type": "markdown",
      "id": "fc6038a0-92f9-418d-a241-05bb3675ca70",
      "metadata": {
        "id": "fc6038a0-92f9-418d-a241-05bb3675ca70"
      },
      "source": [
        "# THANK YOU"
      ]
    },
    {
      "cell_type": "code",
      "execution_count": null,
      "id": "8e126aee-9025-466c-8189-221f55d560f2",
      "metadata": {
        "id": "8e126aee-9025-466c-8189-221f55d560f2"
      },
      "outputs": [],
      "source": []
    }
  ],
  "metadata": {
    "kernelspec": {
      "display_name": "Python 3 (ipykernel)",
      "language": "python",
      "name": "python3"
    },
    "language_info": {
      "codemirror_mode": {
        "name": "ipython",
        "version": 3
      },
      "file_extension": ".py",
      "mimetype": "text/x-python",
      "name": "python",
      "nbconvert_exporter": "python",
      "pygments_lexer": "ipython3",
      "version": "3.11.5"
    },
    "colab": {
      "provenance": [],
      "include_colab_link": true
    }
  },
  "nbformat": 4,
  "nbformat_minor": 5
}